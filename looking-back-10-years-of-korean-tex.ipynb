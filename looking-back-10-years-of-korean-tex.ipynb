{
 "cells": [
  {
   "cell_type": "markdown",
   "metadata": {
    "slideshow": {
     "slide_type": "slide"
    }
   },
   "source": [
    "# 한글 텍 10년을 돌아보다\n",
    "<br />\n",
    "2017년 2월 11일\n",
    "## 이기황\n",
    "다음소프트"
   ]
  },
  {
   "cell_type": "markdown",
   "metadata": {
    "slideshow": {
     "slide_type": "slide"
    }
   },
   "source": [
    "## 차례\n",
    "* ko.$\\TeX$\n",
    "* 표준 한글 텍 환경\n",
    "* KTUG 사설 저장소"
   ]
  },
  {
   "cell_type": "markdown",
   "metadata": {
    "slideshow": {
     "slide_type": "slide"
    }
   },
   "source": [
    "# ko.$TeX$"
   ]
  },
  {
   "cell_type": "markdown",
   "metadata": {
    "slideshow": {
     "slide_type": "slide"
    }
   },
   "source": [
    "## ko.$\\TeX$ 이전 한글 텍의 발전\n",
    "* 1980년대 중반 한국과학기술원 미국 유학 경험 수학자들을 중심으로 텍 소개\n",
    "* 1990년 한국과학기술대학 고기형 교수 팀 한글 텍 구현 시도: 맥킨토시 한글 포스트스크립트 글꼴 이용\n",
    "* 1990년 한국과학기술원 수학과 차재춘 맥킨토시 한글 포스트스트립트 글꼴을 메타폰트로 변환(k-시리즈 글꼴)\n",
    "* 1992년 한국과학기술원 전산학과 최우형, 백윤주 hlatex 공개; k-시리즈 파생 글꼴\n",
    "* 1994년 hlatex과 은광희의 jhtex 통합 $\\rightarrow$ H$\\LaTeX$\n",
    "* 1994년 고기형 교수 팀 전처리 없는 한글 텍 공개; 포스트스크립트 문화부 글꼴\n",
    "* 1995년 고기형 교수 팀 한$\\TeX$ 1.5 발표; 트루타입 글꼴 치환 \n",
    "* 1995년 h$\\LaTeX$p 공개; 비트맵 x-시리즈 글꼴\n",
    "* 1998년 은광희 H$\\LaTeX$ 0.98과 조합형 포스트스크립트 UHC 글꼴 공개\n",
    "* 2001년 한글텍사용자모임(KTUG) 형성\n",
    "* 2002년 조진환 divpdfmx 개발\n",
    "* 2003년 조진환 mslvt 실험\n",
    "* 2004년 은광희, 박원규 은글꼴 트루타입 공개\n",
    "* 2004년 KTUG 한양 PUA 옛한글 변환 테이블 프로젝트\n",
    "* 2004년 김도현, 김강수 hangul-ucs 공개\n",
    "* 2005년 은광희 H$\\LaTeX$ 1.0.1 공개"
   ]
  },
  {
   "cell_type": "markdown",
   "metadata": {
    "slideshow": {
     "slide_type": "notes"
    }
   },
   "source": [
    "* 차재춘\n",
    "    * 한글 코드 어떤 글자들을 사용할 수 있어야 하는가?\n",
    "    * 처리 속도 영문 TeX에 뒤지지 않는 빠른 한글 TEX\n",
    "    * 호환성 영문 TeX과의 호환성 보장\n",
    "    * 한글 처리의 안정성 영문은 되는데 한글은 안 된다? 깨지지 않는 한글\n",
    "    * 한글다운 한글의 처리 한글 줄바꿈, 조사, · · ·\n",
    "    * 한글 글꼴 관리 다양한 한글 글꼴은 어떻게?\n",
    "    * 한글 TeX의 표준화 왜 여러 가지 한글 TeX의 사용 방법이 다른가?\n",
    "* 최우형: transparency, localization, device independency"
   ]
  },
  {
   "cell_type": "markdown",
   "metadata": {
    "slideshow": {
     "slide_type": "subslide"
    }
   },
   "source": [
    "![x-시리즈 글꼴의 한글 자소 구성](figs/x-series.png)"
   ]
  },
  {
   "cell_type": "markdown",
   "metadata": {
    "slideshow": {
     "slide_type": "subslide"
    }
   },
   "source": [
    "![윈도XP에서 실행한 한TeX](figs/htex_view.jpg)"
   ]
  },
  {
   "cell_type": "markdown",
   "metadata": {
    "slideshow": {
     "slide_type": "subslide"
    }
   },
   "source": [
    "![UHC 글꼴의 한글 자소 구성](figs/uhc.png)"
   ]
  },
  {
   "cell_type": "markdown",
   "metadata": {
    "slideshow": {
     "slide_type": "slide"
    }
   },
   "source": [
    "## 한국텍학회(The Korean $\\TeX$ Society) 창립\n",
    "* 2007년 1월 27일 고등과학원\n",
    "* KTUG 5주년 학술 발표회 및 한국텍학회 창립 총회\n",
    "* 정기적인 텍 관련 **학술 활동**과 **정보 교환**\n",
    "* 한글 텍 시스템의 지속적인 **연구 개발**"
   ]
  },
  {
   "cell_type": "markdown",
   "metadata": {
    "slideshow": {
     "slide_type": "subslide"
    }
   },
   "source": [
    "![KTS 창립 기념 단체 사진](figs/KTUG2007.jpg)"
   ]
  },
  {
   "cell_type": "markdown",
   "metadata": {
    "slideshow": {
     "slide_type": "slide"
    }
   },
   "source": [
    "# ko.$\\TeX$의 태동 \n",
    "* 2007년 6월 12일\n",
    "    * 김도현, 김강수 dhucs 4.0 공개\n",
    "    * Babel utf8.def, $\\epsilon$-$\\TeX$\n",
    "* 2007년 6월 29일-30일\n",
    "    * 경기도 남양주시 수동면 외방2리\n",
    "    * 은광희, 김도현, 김강수 H$\\LaTeX$과 hangul-ucs를 통합하여 ko.$\\TeX$ 구성 합의\n",
    "* 2007년 7월 20일 ko.$\\TeX$ 공개\n",
    "    * UTF-8 인코딩(kotex-utf)과 완성형 한글 코드(kotex-euc) 모두 지원\n",
    "    * 은 글꼴 타이프 1\n",
    "    * 수식과 한글 미세 간격 조정, 기본 자간 조절, 문장부호 수직 위치 조절, 마이크로 타이포그래피"
   ]
  },
  {
   "cell_type": "markdown",
   "metadata": {
    "slideshow": {
     "slide_type": "subslide"
    }
   },
   "source": [
    "![2007 KTS 수련회](./figs/kts-workshop-2007.jpg)"
   ]
  },
  {
   "cell_type": "markdown",
   "metadata": {
    "slideshow": {
     "slide_type": "subslide"
    }
   },
   "source": [
    "![HLaTeX에서 ko.TeX까지](figs/histkotex.jpg)"
   ]
  },
  {
   "cell_type": "markdown",
   "metadata": {
    "slideshow": {
     "slide_type": "notes"
    }
   },
   "source": [
    "* hangul-nojosa(2004): HLaTeX의 hangul.sty에는 아주 훌륭한 자동조사 기능이 있습니다. 그러나 이 자동조사 기능은 평상시에는 매우 편리하지만 PDF Hyperlink를 만들 때는 불편하였습니다. 그 때문에 PDF를 만들기 위해서는 그 동안 hangul에서 자동조사 기능을 제거한 hangul-nojosa가 쓰여왔습니다.\n",
    "* hangul-k(2004): hangul-k는 이 hangul-nojosa를 기반으로 DohyunKim 님이 개발한 하이퍼링크-자동조사 루틴을 채택하여 PDF를 만들 때 자동조사가 작동하도록 한 것입니다. DohyunKim 님의 하이퍼링크-자동조사의 아이디어는 hyperref이 링크를 만들기를 기다려서 거기서 반환되는 문자열 또는 숫자를 직접 분해/분석하여 마지막 글자값을 정하고 여기에 맞는 자동조사를 붙여주는 방식입니다.\n",
    "* DHHangul(2003): 현대 한글 및 옛한글 문서를 조판하기 위한 Lambda 패키지이다. 다음과 같은 특징이 있다.\n",
    "* mslvt (2003): 한양글꼴조합방식 파악 -> HyPUATable"
   ]
  },
  {
   "cell_type": "markdown",
   "metadata": {
    "slideshow": {
     "slide_type": "subslide"
    }
   },
   "source": [
    "![DHHangul을 이용한 논어집주언해 조판](figs/lunyu-2004.png)"
   ]
  },
  {
   "cell_type": "markdown",
   "metadata": {
    "slideshow": {
     "slide_type": "slide"
    }
   },
   "source": [
    "## ko.$\\TeX$의 혁신\n",
    "* 2008년\n",
    "    * 김도현 XeTeX-ko 공개\n",
    "    * 김도현 LuaTeX-ko 공개\n",
    "* 2010년\n",
    "    * 김도현, 김강수, 조진환, 이기황 함초롬LVT 글꼴 공개"
   ]
  },
  {
   "cell_type": "markdown",
   "metadata": {
    "slideshow": {
     "slide_type": "subslide"
    }
   },
   "source": [
    "![TeX 엔진의 계보](figs/tex-engines.png)"
   ]
  },
  {
   "cell_type": "markdown",
   "metadata": {
    "slideshow": {
     "slide_type": "subslide"
    }
   },
   "source": [
    "![함초롬LVT로 조판한 훈민정음](figs/hcr-lvt.png)"
   ]
  },
  {
   "cell_type": "markdown",
   "metadata": {
    "slideshow": {
     "slide_type": "subslide"
    }
   },
   "source": [
    "![자소 분리](figs/jaso-decomp.png)"
   ]
  },
  {
   "cell_type": "markdown",
   "metadata": {
    "slideshow": {
     "slide_type": "slide"
    }
   },
   "source": [
    "## ko.$\\TeX$의 완숙\n",
    "* 2013년 3월 23일-24일 김도현 cjk-ko, nanumtype1 CTAN/$\\TeX$ Live 등재\n",
    "* 2013년 3월 27일-28일 김도현 XeTeX-ko, CTAN/$\\TeX$ Live 등재\n",
    "* 2013년 5월 10일-11일 김도현 LuaTeX-ko, CTAN/$\\TeX$ Live 등재\n",
    "* 2013년 9월 30일 김강수 ko.$\\TeX$ 2.0 발표 \n",
    "* 2013년 10월 28일-11월 9일 김강수, 이기황 ko.$\\TeX$ CTAN/$\\TeX$ Live/MiK$\\TeX$ 등재 \n",
    "* 2014년 7월 TUG ko.$TeX$ 패키지를 모두 포함한 $\\TeX$ Live 2014 배포"
   ]
  },
  {
   "cell_type": "markdown",
   "metadata": {
    "slideshow": {
     "slide_type": "subslide"
    }
   },
   "source": [
    "![TeX Live 2014에 포함된 ko.TeX 패키지들](figs/texlive-2014.png)"
   ]
  },
  {
   "cell_type": "markdown",
   "metadata": {
    "slideshow": {
     "slide_type": "subslide"
    }
   },
   "source": [
    "![김도현 깃허브](figs/github-nomos.png)"
   ]
  },
  {
   "cell_type": "markdown",
   "metadata": {
    "slideshow": {
     "slide_type": "subslide"
    }
   },
   "source": [
    "![깃허브 이기황](figs/github-madtoad.png)"
   ]
  },
  {
   "cell_type": "markdown",
   "metadata": {
    "slideshow": {
     "slide_type": "slide"
    }
   },
   "source": [
    "# 표준 한글 텍 환경"
   ]
  },
  {
   "cell_type": "markdown",
   "metadata": {
    "slideshow": {
     "slide_type": "slide"
    }
   },
   "source": [
    "## KTUG 컬렉션 이전의 한글 텍 배포판\n",
    "* 2002년-2004년\n",
    "    * 조진환 MiK$\\TeX$ KTUG 2.2, 2.3, 2.4 patch\n",
    "    * MiK$\\TeX$ + H$\\LaTeX$ + dvipdfmx\n",
    "* 2004년 12월\n",
    "    * 홍석호 HPack\n",
    "    * 추가 설치 프로그램 \n",
    "    * 2006년 v1.2까지 개발"
   ]
  },
  {
   "cell_type": "markdown",
   "metadata": {
    "slideshow": {
     "slide_type": "subslide"
    }
   },
   "source": [
    "![MiKTeX KTUG](figs/miktex-ktug.png)"
   ]
  },
  {
   "cell_type": "markdown",
   "metadata": {
    "slideshow": {
     "slide_type": "subslide"
    }
   },
   "source": [
    "![MiKTeX 패치](figs/miktex-patch.jpg)"
   ]
  },
  {
   "cell_type": "markdown",
   "metadata": {
    "slideshow": {
     "slide_type": "subslide"
    }
   },
   "source": [
    "![HPack](figs/hpack.jpg)"
   ]
  },
  {
   "cell_type": "markdown",
   "metadata": {
    "slideshow": {
     "slide_type": "slide"
    }
   },
   "source": [
    "## KTUG 컬렉션 (MiK$\\TeX$ 기반)\n",
    "* 2005년 4월\n",
    "    * 김강수, 홍석호, 이주호, 조성민 KTUG 컬렉션 2015\n",
    "    * non-free 글꼴 패키지\n",
    "    * 각종 유틸리티, 패키지, 문서\n",
    "    * texmf-KTUG 공개"
   ]
  },
  {
   "cell_type": "markdown",
   "metadata": {
    "slideshow": {
     "slide_type": "subslide"
    }
   },
   "source": [
    "![KTUG 컬렉션 2015 설치 프로그램](figs/kc-2005-inst.png)"
   ]
  },
  {
   "cell_type": "markdown",
   "metadata": {
    "slideshow": {
     "slide_type": "subslide"
    }
   },
   "source": [
    "![KTUG 컬렉션 2005 패키지](figs/kc-2005-package.png)"
   ]
  },
  {
   "cell_type": "markdown",
   "metadata": {
    "slideshow": {
     "slide_type": "slide"
    }
   },
   "source": [
    "## KTUG 컬렉션 (W32TeX/ko 기반)\n",
    "* 2006년 7월-12월\n",
    "    * 김강수, 이기황, 윤석천, 이주호 KTUG 컬렉션 2016\n",
    "    * kcmpm, kclogmpm, kcupdate, kcltxmk\n",
    "    * KCMenu, EmEditor, Acroread\n",
    "* 2007년 8월 29일\n",
    "    * 김강수 KTUG 컬렉션 2017\n",
    "    * kcmpm $\\rightarrow$ kcpm\n",
    "    * NotePad++, PDFSync\n",
    "    * $\\TeX$ Live 지원 시도"
   ]
  },
  {
   "cell_type": "markdown",
   "metadata": {
    "slideshow": {
     "slide_type": "subslide"
    }
   },
   "source": [
    "![KC 2006 DviOut](figs/ps2dviout.jpg)"
   ]
  },
  {
   "cell_type": "markdown",
   "metadata": {
    "slideshow": {
     "slide_type": "subslide"
    }
   },
   "source": [
    "![KC-2006 CD 재킷](figs/KC2006-2-Jacket.png)"
   ]
  },
  {
   "cell_type": "markdown",
   "metadata": {
    "slideshow": {
     "slide_type": "subslide"
    }
   },
   "source": [
    "![KC 2007 설치 프로그램](figs/kc07-01.jpg)"
   ]
  },
  {
   "cell_type": "markdown",
   "metadata": {
    "slideshow": {
     "slide_type": "subslide"
    }
   },
   "source": [
    "![KC2007 Setting](figs/kc07-setting.jpg)"
   ]
  },
  {
   "cell_type": "markdown",
   "metadata": {
    "slideshow": {
     "slide_type": "slide"
    }
   },
   "source": [
    "## KTUG 컬렉션/ko.$\\TeX$ Live ($\\TeX$ Live 기반)\n",
    "* 2008년 9월 13일\n",
    "    * 김강수 KTUG 컬렉션 2008\n",
    "* 2009년-2013년\n",
    "    * 김강수, 이기황 ko.$\\TeX$ Live 2009-2013\n",
    "    * TeXworks\n",
    "    * ktugbin"
   ]
  },
  {
   "cell_type": "markdown",
   "metadata": {
    "slideshow": {
     "slide_type": "subslide"
    }
   },
   "source": [
    "![TeXworks 컴파일 경로](figs/compileroute.png)"
   ]
  },
  {
   "cell_type": "markdown",
   "metadata": {
    "slideshow": {
     "slide_type": "subslide"
    }
   },
   "source": [
    "![kconthefly](figs/kconthefly.png)"
   ]
  },
  {
   "cell_type": "markdown",
   "metadata": {
    "slideshow": {
     "slide_type": "slide"
    }
   },
   "source": [
    "# KTUG 사설 저장소"
   ]
  },
  {
   "cell_type": "markdown",
   "metadata": {
    "slideshow": {
     "slide_type": "slide"
    }
   },
   "source": [
    "## 패키지 목록\n",
    "* **arara-rules-ko** 한글 사용자를 위한 arara rules 추가 \n",
    "* **graphicsonthefly** web상의 그림을 includegraphics \n",
    "* **hangulfontset** 한글 폰트 설정 (xetex)\n",
    "* **hanjacnt** 숫자를 한자로 변환\n",
    "* **hcr-lvt** 함초롬LVT 트루타입 폰트\n",
    "* **hnja2hngl** 한자로 입력된 텍스트에 한글 음을 (반)자동으로 붙여줌 (readhanja참조) \n",
    "* **ifpxltex** 엔진 확장\n",
    "* **istgame** Drawing game trees with TikZ (ischo)\n",
    "* **jiwonlipsum** lipsum for Korean \n",
    "* **ko-blacklist** luatex culprit font blacklist\n",
    "* **kocircnum** 원숫자\n",
    "* **kotex-euc** EUC-KR 한글 문서 작성\n",
    "* **kotex-midkor** pdfTeX을 위한 옛한글 처리\n",
    "* **kotex-sections** HLaTeX 식의 절 표제\n",
    "* **ksbaduk** 바둑(기보) 조판\n",
    "* **ksforloop** for-loop\n",
    "* **ksmisc** misc packages by Karnes\n",
    "* **kswrapfig** 그림 주변으로 텍스트 흘리기\n",
    "* **ktugbin** (Windows) 윈도우즈 사용자를 위한 ko.TeX Live 추가 실행 파일 \n",
    "* **nanumbaruntype1** 나눔바른고딕 type1\n",
    "* **nanumttf** 나눔명조/고딕 트루타입 \n",
    "* **ob-chapstyles** oblivoir chapter styles \n",
    "* **readhanja** 한자 입력에 한글 음을 붙여줌. LuaLaTeX. \n",
    "* **texworks-config** (Windows) 윈도우즈 사용자를 위한 ko.TeX Live의 TeXworks 설정 \n",
    "* **unfonts-base-type1** 은 글꼴 (type1)\n",
    "* **unfonts-other-type1** 은 글꼴 (type1)"
   ]
  },
  {
   "cell_type": "markdown",
   "metadata": {
    "slideshow": {
     "slide_type": "slide"
    }
   },
   "source": [
    "![Topic ](figs/CTAN_Topic_korean.png)"
   ]
  },
  {
   "cell_type": "markdown",
   "metadata": {
    "slideshow": {
     "slide_type": "slide"
    }
   },
   "source": [
    "## 맺으며\n",
    "* 열심히 달려온 10년!\n",
    "* Lua$\\TeX$의 발전에 대한 기대\n",
    "* 앞으로의 10년은?"
   ]
  }
 ],
 "metadata": {
  "celltoolbar": "Slideshow",
  "kernelspec": {
   "display_name": "Python 3",
   "language": "python",
   "name": "python3"
  },
  "language_info": {
   "codemirror_mode": {
    "name": "ipython",
    "version": 3
   },
   "file_extension": ".py",
   "mimetype": "text/x-python",
   "name": "python",
   "nbconvert_exporter": "python",
   "pygments_lexer": "ipython3",
   "version": "3.5.2"
  }
 },
 "nbformat": 4,
 "nbformat_minor": 2
}
